{
 "cells": [
  {
   "cell_type": "markdown",
   "metadata": {},
   "source": [
    "## LTV Audit\n",
    "    To verify LTV values are consistent based on transaction tables"
   ]
  },
  {
   "cell_type": "markdown",
   "metadata": {},
   "source": [
    "#### Use these queries to collect data as the input csv files for this notebook to process\n",
    "    --- prepare data for LTV correction\n",
    "    --- pre implement to produce ltv0.csv\n",
    "```\n",
    "    select count(*) as number_of_bookings,\n",
    "     round(sum(r.total/(select a2.transaction_attribute_value\n",
    "     from R2_TransactionAttributes a1, R2_TransactionAttributes a2\n",
    "     where a1.R2_Transactions_transaction_id =a2.R2_Transactions_transaction_id\n",
    "     and a1.transaction_attribute_name='conversionCode' and a2.transaction_attribute_name='conversionRate'\n",
    "     and a1.transaction_attribute_value=i.currency_code limit 1)),2) as ltv0, idMember\n",
    "     from R2_Itineraries i\n",
    "    join R2_RoomConfirmations r on r.R2_Itineraries_itinerary_id=i.itinerary_id\n",
    "     join members m on m.idMembers = i.idMember and m.groups='active'\n",
    "     left join member_loyalty ml on i.idMember=ml.member_id\n",
    "     where i.creation_date < '2020-10-15 05:00:00' \n",
    "     and (i.STATUS not in ('Cancelled','Cancel') OR i.STATUS is null) and (i.local_status not in ('CANCELLED') OR i.local_status is null)\n",
    "    and r.local_status!='CANCELLED'\n",
    "     and r.status not in ('CANCELLED','CANCELED')\n",
    "    group by idMember\n",
    "    order by idMember              \n",
    "```\n",
    "\n",
    "--- post implement to produce ltv1.csv\n",
    "```\n",
    "    select count(*) as number_of_bookings,\n",
    "     round(sum(r.total/(select a2.transaction_attribute_value\n",
    "     from R2_TransactionAttributes a1, R2_TransactionAttributes a2\n",
    "     where a1.R2_Transactions_transaction_id =a2.R2_Transactions_transaction_id\n",
    "     and a1.transaction_attribute_name='conversionCode' and a2.transaction_attribute_name='conversionRate'\n",
    "     and a1.transaction_attribute_value=i.currency_code limit 1)),2) as ltv1, idMember\n",
    "     from R2_Itineraries i\n",
    "    join R2_RoomConfirmations r on r.R2_Itineraries_itinerary_id=i.itinerary_id\n",
    "     join members m on m.idMembers = i.idMember and m.groups='active'\n",
    "     left join member_loyalty ml on i.idMember=ml.member_id\n",
    "     where i.creation_date >= '2020-10-15 05:00:00' and i.end_date < '2021-03-03 00:00:00' \n",
    "     and (i.STATUS not in ('Cancelled','Cancel') OR i.STATUS is null) and (i.local_status not in ('CANCELLED') OR i.local_status is null)\n",
    "    and r.local_status!='CANCELLED'\n",
    "     and r.status not in ('CANCELLED','CANCELED')\n",
    "    group by idMember\n",
    "    order by idMember\n",
    "```\n",
    "\n",
    "-- current loyalty levels to produce ltv.csv\n",
    "```\n",
    "    select ml.*, m.groups from member_loyalty ml, members m where ml.member_id=m.idMembers;\n",
    "```\n",
    "\n",
    "-- produce ltv_credits.csv\n",
    "```\n",
    "    select sum(amount) as credits, member_id \n",
    "    from  member_credits \n",
    "    where credit_type='LTV_REWARD' and amount>0 \n",
    "    group by member_id \n",
    "    order by member_id;\n",
    "```"
   ]
  },
  {
   "cell_type": "code",
   "execution_count": null,
   "metadata": {},
   "outputs": [],
   "source": [
    "import numpy as np\n",
    "import os\n",
    "import pandas as pd\n",
    "import re"
   ]
  },
  {
   "cell_type": "code",
   "execution_count": null,
   "metadata": {},
   "outputs": [],
   "source": [
    "base_dir = './preparation/'\n",
    "ltv_file = base_dir + 'ltv.csv'\n",
    "ltv0_file = base_dir + 'ltv0.csv'\n",
    "ltv1_file = base_dir + 'ltv1.csv'\n",
    "ltv_credits_file = base_dir + 'ltv_credits.csv'\n",
    "\n",
    "raw_ltv = \\\n",
    "     pd.read_csv(ltv_file, usecols=['member_id', 'hotel_ltv','hotel_ltv_tstamp','hotel_tier_ltv','groups'], \\\n",
    "                 dtype= { \"member_id\":np.character, \"hotel_ltv\":np.double, \"hotel_ltv_tstamp\":np.character, \"hotel_tier_ltv\":np.double, \"groups\":np.character}, float_precision='high')\n",
    "raw_ltv0 = \\\n",
    "     pd.read_csv(ltv0_file, usecols=['number_of_bookings', 'ltv0','idMember'], \\\n",
    "                 dtype= { \"number_of_bookings\":np.uint8, \"ltv0\":np.double, \"idMember\":np.character}, float_precision='high')\n",
    "raw_ltv0.rename(columns={\"number_of_bookings\": \"bookings0\", \"idMember\": \"member_id\"}, inplace=True)\n",
    "\n",
    "raw_ltv1 = \\\n",
    "     pd.read_csv(ltv1_file, usecols=['number_of_bookings', 'ltv1','idMember'], \\\n",
    "                 dtype= { \"number_of_bookings\":np.uint8, \"ltv1\":np.double, \"idMember\":np.character}, float_precision='high')\n",
    "raw_ltv1.rename(columns={\"number_of_bookings\": \"bookings1\",\"idMember\": \"member_id\"}, inplace=True)\n",
    "\n",
    "raw_ltv_credits = \\\n",
    "     pd.read_csv(ltv_credits_file, usecols=['member_id', 'credits'], \\\n",
    "                 dtype= { \"member_id\":np.character, \"credits\":np.double}, float_precision='high')"
   ]
  },
  {
   "cell_type": "code",
   "execution_count": null,
   "metadata": {},
   "outputs": [],
   "source": [
    "# raw_ltv_credits.head(3)\n",
    "# raw_ltv0.head(3)\n",
    "# raw_ltv1.head(3)\n",
    "raw_ltv.head(3)"
   ]
  },
  {
   "cell_type": "code",
   "execution_count": null,
   "metadata": {},
   "outputs": [],
   "source": [
    "raw_ltv.shape, raw_ltv0.shape, raw_ltv1.shape, raw_ltv_credits.shape"
   ]
  },
  {
   "cell_type": "code",
   "execution_count": null,
   "metadata": {},
   "outputs": [],
   "source": [
    "ltv_0_1=raw_ltv0.merge(raw_ltv1, on='member_id', how='outer')"
   ]
  },
  {
   "cell_type": "code",
   "execution_count": null,
   "metadata": {},
   "outputs": [],
   "source": [
    "ltv_0_1.head()"
   ]
  },
  {
   "cell_type": "code",
   "execution_count": null,
   "metadata": {},
   "outputs": [],
   "source": [
    "ltv_0_1_2=raw_ltv.merge(ltv_0_1, on='member_id', how='left')"
   ]
  },
  {
   "cell_type": "code",
   "execution_count": null,
   "metadata": {},
   "outputs": [],
   "source": [
    "ltv_0_1_2.shape"
   ]
  },
  {
   "cell_type": "code",
   "execution_count": null,
   "metadata": {},
   "outputs": [],
   "source": [
    "raw_ltv_credits.loc[raw_ltv_credits.member_id.isin(['302057','970793'])]"
   ]
  },
  {
   "cell_type": "code",
   "execution_count": null,
   "metadata": {},
   "outputs": [],
   "source": [
    "ltv_all=ltv_0_1_2.merge(raw_ltv_credits, on='member_id', how='left')"
   ]
  },
  {
   "cell_type": "code",
   "execution_count": null,
   "metadata": {},
   "outputs": [],
   "source": [
    "ltv_all.shape"
   ]
  },
  {
   "cell_type": "code",
   "execution_count": null,
   "metadata": {},
   "outputs": [],
   "source": [
    "ltv_all.loc[ltv_all.member_id.isin(['302057','970793'])]"
   ]
  },
  {
   "cell_type": "code",
   "execution_count": null,
   "metadata": {},
   "outputs": [],
   "source": [
    "ltv_all.head()"
   ]
  },
  {
   "cell_type": "code",
   "execution_count": null,
   "metadata": {},
   "outputs": [],
   "source": [
    "ltv_all.fillna({'hotel_ltv': 0,'hotel_tier_ltv': 0,'bookings0': 0,'bookings1': 0, 'credits': 0, 'ltv0': 0, 'ltv1': 0}, inplace=True)\n",
    "ltv_all['bookings'] = ltv_all['bookings0'] + ltv_all['bookings1']\n",
    "ltv_all['ltv_0_1'] = ltv_all['ltv0'] + ltv_all['ltv1']\n",
    "ltv_all['ml_ltv_total'] = ltv_all['hotel_ltv'] + ltv_all['hotel_tier_ltv']\n",
    "ltv_all['missing_ltv'] = ltv_all['ltv_0_1'] - ltv_all['ml_ltv_total']\n",
    "ltv_all.sort_values('missing_ltv', ascending=False, inplace=True)"
   ]
  },
  {
   "cell_type": "code",
   "execution_count": null,
   "metadata": {},
   "outputs": [],
   "source": [
    "ltv_all.loc[ltv_all.member_id.isin(['302057','970793','612841','683761'])]"
   ]
  },
  {
   "cell_type": "code",
   "execution_count": null,
   "metadata": {},
   "outputs": [],
   "source": [
    "# raw_ltv.head(3)\n",
    "# raw_ltv1.head(3)"
   ]
  },
  {
   "cell_type": "code",
   "execution_count": null,
   "metadata": {},
   "outputs": [],
   "source": [
    "ltv_0_1_2.loc[ltv_0_1_2.member_id.isin(['302057','970793','683761'])]"
   ]
  },
  {
   "cell_type": "code",
   "execution_count": null,
   "metadata": {},
   "outputs": [],
   "source": [
    "raw_ltv0[raw_ltv0.member_id.isin(['302057','970793'])]"
   ]
  },
  {
   "cell_type": "code",
   "execution_count": null,
   "metadata": {},
   "outputs": [],
   "source": [
    "raw_ltv1.loc[raw_ltv1.member_id.isin(['302057','970793'])]"
   ]
  },
  {
   "cell_type": "code",
   "execution_count": null,
   "metadata": {},
   "outputs": [],
   "source": [
    "raw_ltv.loc[raw_ltv.member_id.isin(['302057','970793','683761'])]"
   ]
  },
  {
   "cell_type": "code",
   "execution_count": null,
   "metadata": {},
   "outputs": [],
   "source": [
    "ltv_all.to_csv(base_dir + 'ltv_out.csv', \\\n",
    "               columns=[\"member_id\",\"groups\",\"credits\",\"hotel_ltv_tstamp\",\"bookings0\",\"bookings1\",\"bookings\",\"hotel_ltv\",\"hotel_tier_ltv\",\"ml_ltv_total\",\"ltv0\",\"ltv1\",\"ltv_0_1\",\"missing_ltv\"], \\\n",
    "               encoding=\"utf-8\", index=False, float_format='%.2f') "
   ]
  },
  {
   "cell_type": "code",
   "execution_count": null,
   "metadata": {},
   "outputs": [],
   "source": []
  }
 ],
 "metadata": {
  "kernelspec": {
   "display_name": "Python 3",
   "language": "python",
   "name": "python3"
  },
  "language_info": {
   "codemirror_mode": {
    "name": "ipython",
    "version": 3
   },
   "file_extension": ".py",
   "mimetype": "text/x-python",
   "name": "python",
   "nbconvert_exporter": "python",
   "pygments_lexer": "ipython3",
   "version": "3.6.8"
  }
 },
 "nbformat": 4,
 "nbformat_minor": 2
}
